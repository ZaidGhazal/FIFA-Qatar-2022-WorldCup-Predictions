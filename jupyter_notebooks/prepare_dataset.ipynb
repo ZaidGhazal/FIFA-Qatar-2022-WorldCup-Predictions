{
 "cells": [
  {
   "cell_type": "code",
   "execution_count": 1,
   "metadata": {},
   "outputs": [],
   "source": [
    "import pandas as pd\n",
    "import numpy as np\n",
    "import matplotlib.pyplot as plt\n",
    "import glob\n",
    "import os\n",
    "import warnings\n",
    "warnings.filterwarnings('ignore')"
   ]
  },
  {
   "cell_type": "markdown",
   "metadata": {},
   "source": [
    "## Import & Prepare DataFrame"
   ]
  },
  {
   "cell_type": "code",
   "execution_count": 2,
   "metadata": {},
   "outputs": [],
   "source": [
    "def remove_whitespaces(df: pd.DataFrame) -> None:\n",
    "    \"\"\"Remove whitespaces from column names and string values\n",
    "\n",
    "    Parameters\n",
    "    ----------\n",
    "    df : pd.DataFrame\n",
    "        Dataframe to clean\n",
    "    \"\"\"\n",
    "    # Remove whitespace from each column name\n",
    "    df.columns = df.columns.str.strip()\n",
    "    \n",
    "    # Remove whitespace from each string value\n",
    "    categorical_columns = df.select_dtypes(\"O\").columns\n",
    "    for column in categorical_columns:\n",
    "        df[column] = df[column].str.strip()"
   ]
  },
  {
   "cell_type": "code",
   "execution_count": 3,
   "metadata": {},
   "outputs": [],
   "source": [
    "MATCHES_DATA_PATH = \"../data/matches_data/historical_matches.csv\"\n",
    "PLAYERS_DATA_PATH = \"../data/players_data/players_all_prepared.csv\"\n",
    "\n",
    "# Load the matches data\n",
    "matches = pd.read_csv(MATCHES_DATA_PATH)\n",
    "\n",
    "# Load the players data\n",
    "players = pd.read_csv(PLAYERS_DATA_PATH)\n",
    "\n",
    "\n",
    "# Remove whitespaces from column names and string values\n",
    "remove_whitespaces(matches)\n",
    "remove_whitespaces(players)"
   ]
  },
  {
   "cell_type": "code",
   "execution_count": 4,
   "metadata": {},
   "outputs": [],
   "source": [
    "# Matches date to datetime\n",
    "matches[\"date\"] = pd.to_datetime(matches[\"date\"])\n",
    "matches[\"year\"] = matches[\"date\"].dt.year\n",
    "\n",
    "# Filter years in matches to match the given players data dates [2015, 2022]\n",
    "matches = matches[matches[\"year\"] >= 2014]\n",
    "\n",
    "# Filter tournaments to keep only ones  having players as in world cup matches\n",
    "to_keep_tournaments = [\"Friendly\", \n",
    "\"AFC Asian Cup qualification\",\n",
    "\"EAFF Championship\",\n",
    "\"African Cup of Nations qualification\",\n",
    "\"FIFA World Cup\",\n",
    "\"Kirin Challenge Cup\",\n",
    "\"UEFA Euro qualification\",\n",
    "\"Superclásico de las Américas\",\n",
    "\"Gulf Cup\",\n",
    "\"AFC Asian Cup\",\n",
    "\"African Cup of Nations\",\n",
    "\"FIFA World Cup qualification\",\n",
    "\"Copa América\",\n",
    "\"Gold Cup\",\n",
    "\"Copa América qualification\",\n",
    "\"Kirin Cup\",\n",
    "\"UEFA Euro\",\n",
    "\"Confederations Cup\",\n",
    "\"UEFA Nations League\",\n",
    "\"CONCACAF Nations League qualification\",\n",
    "\"CONCACAF Nations League\",\n",
    "\"CONMEBOL–UEFA Cup of Champions\"]"
   ]
  },
  {
   "cell_type": "code",
   "execution_count": 5,
   "metadata": {},
   "outputs": [],
   "source": [
    "## Assert all to_keep torunments are in dataframe\n",
    "for torn in to_keep_tournaments:\n",
    "    all_tournaments = matches[\"tournament\"].unique()\n",
    "    found = matches[matches[\"tournament\"] == torn].count().sum()\n",
    "    assert found > 0, f\"Zero mathces found for tournament {torn}\"\n",
    "    assert (all_tournaments == torn).sum() == 1, f\"tournament {torn} NOT found in matches\"\n"
   ]
  },
  {
   "cell_type": "code",
   "execution_count": 6,
   "metadata": {},
   "outputs": [],
   "source": [
    "# Filter matches to keep only the ones in the tournaments to keep\n",
    "matches = matches[matches[\"tournament\"].isin(to_keep_tournaments)]\n",
    "\n",
    "# matches net score\n",
    "matches[\"net_score\"] = matches[\"home_score\"] - matches[\"away_score\"]\n",
    "\n",
    "# Keep only desired columns\n",
    "matches = matches[[\"year\", \"home_team\", \"away_team\", \"net_score\"]]\n",
    "\n",
    "# Rename columns\n",
    "matches.rename(columns={\"home_team\": \"1st_team\", \"away_team\": \"2nd_team\"}, inplace=True)"
   ]
  },
  {
   "cell_type": "code",
   "execution_count": 7,
   "metadata": {},
   "outputs": [],
   "source": [
    "matches.reset_index(drop=True, inplace=True)\n",
    "players.reset_index(drop=True, inplace=True)"
   ]
  },
  {
   "cell_type": "markdown",
   "metadata": {},
   "source": [
    "## Merge Data"
   ]
  },
  {
   "cell_type": "code",
   "execution_count": 8,
   "metadata": {},
   "outputs": [],
   "source": [
    "## Adjust year value. The FIFA data collected in 2023 represents the year 2022, and this applies to all the data.\n",
    "## This adjusment is to correctly merge matches with the corresponding players data \n",
    "players[\"year\"] -= 1\n"
   ]
  },
  {
   "cell_type": "code",
   "execution_count": 17,
   "metadata": {},
   "outputs": [
    {
     "data": {
      "text/plain": [
       "array(['GK', 'RWB', 'LCB', 'SUB', 'LCM', 'RW', 'LW', 'RCM', 'LWB', 'RCB',\n",
       "       'CB', 'ST', 'RES', 'LB', 'RDM', 'LM', 'RB', 'RM', 'LDM', 'CDM',\n",
       "       'RS', 'CAM', 'LS', 'LF', 'RF', 'CF', 'CM', 'LAM', 'RAM'],\n",
       "      dtype=object)"
      ]
     },
     "execution_count": 17,
     "metadata": {},
     "output_type": "execute_result"
    }
   ],
   "source": [
    "## get unique positions\n",
    "all_positions = players[\"nation_position\"].unique()\n",
    "all_positions"
   ]
  },
  {
   "cell_type": "code",
   "execution_count": 10,
   "metadata": {},
   "outputs": [],
   "source": [
    "drop_ind = []\n",
    "for i, row in matches.iterrows():\n",
    "    year = row[\"year\"]\n",
    "    team1 = row[\"1st_team\"].lower().strip()\n",
    "    team2 = row[\"2nd_team\"].lower().strip()\n",
    "\n",
    "    # Check if team1 is in players data\n",
    "    team1_players = players[(players[\"year\"] == year) & (players[\"nationality_name\"].str.lower() == team1)]\n",
    "    if team1_players.empty:\n",
    "        drop_ind.append(i)\n",
    "        continue\n",
    "\n",
    "    # Check if team2 is in players data \n",
    "    team2_players = players[(players[\"year\"] == year) & (players[\"nationality_name\"].str.lower()== team2)]\n",
    "    if team2_players.empty:\n",
    "        drop_ind.append(i)\n",
    "        continue"
   ]
  },
  {
   "cell_type": "code",
   "execution_count": 11,
   "metadata": {},
   "outputs": [
    {
     "data": {
      "text/plain": [
       "0.8362068965517241"
      ]
     },
     "execution_count": 11,
     "metadata": {},
     "output_type": "execute_result"
    }
   ],
   "source": [
    "# invalid matches ratio\n",
    "len(drop_ind)/matches.shape[0]"
   ]
  },
  {
   "cell_type": "code",
   "execution_count": 12,
   "metadata": {},
   "outputs": [],
   "source": [
    "matches.drop(drop_ind, inplace=True)"
   ]
  },
  {
   "cell_type": "code",
   "execution_count": 13,
   "metadata": {},
   "outputs": [],
   "source": [
    "grouped_players = players.groupby([\"nationality_name\", \"year\", \"nation_position\"]).mean()"
   ]
  },
  {
   "cell_type": "code",
   "execution_count": null,
   "metadata": {},
   "outputs": [],
   "source": []
  },
  {
   "cell_type": "code",
   "execution_count": 22,
   "metadata": {},
   "outputs": [
    {
     "data": {
      "text/plain": [
       "array(['LS', 'SUB', 'GK', 'LCB', 'RCM', 'RM', 'LM', 'LCM', 'RS', 'LB',\n",
       "       'RCB', 'RB'], dtype=object)"
      ]
     },
     "execution_count": 22,
     "metadata": {},
     "output_type": "execute_result"
    }
   ],
   "source": [
    "players[(players[\"nationality_name\"] == \"Poland\") & (players[\"year\"]==2014)][\"nation_position\"].unique()"
   ]
  },
  {
   "cell_type": "code",
   "execution_count": 39,
   "metadata": {},
   "outputs": [
    {
     "data": {
      "text/plain": [
       "38"
      ]
     },
     "execution_count": 39,
     "metadata": {},
     "output_type": "execute_result"
    }
   ],
   "source": [
    "grouped_players.columns.shape[0]"
   ]
  },
  {
   "cell_type": "code",
   "execution_count": 41,
   "metadata": {},
   "outputs": [
    {
     "data": {
      "text/plain": [
       "array([[0., 0., 0., 0., 0., 0., 0., 0., 0., 0., 0., 0., 0., 0., 0., 0.,\n",
       "        0., 0., 0., 0., 0., 0., 0., 0., 0., 0., 0., 0., 0., 0., 0., 0.,\n",
       "        0., 0., 0., 0., 0., 0.]])"
      ]
     },
     "execution_count": 41,
     "metadata": {},
     "output_type": "execute_result"
    }
   ],
   "source": [
    "np.zeros((1,grouped_players.columns.shape[0]))"
   ]
  },
  {
   "cell_type": "code",
   "execution_count": 42,
   "metadata": {},
   "outputs": [
    {
     "data": {
      "text/html": [
       "<div>\n",
       "<style scoped>\n",
       "    .dataframe tbody tr th:only-of-type {\n",
       "        vertical-align: middle;\n",
       "    }\n",
       "\n",
       "    .dataframe tbody tr th {\n",
       "        vertical-align: top;\n",
       "    }\n",
       "\n",
       "    .dataframe thead th {\n",
       "        text-align: right;\n",
       "    }\n",
       "</style>\n",
       "<table border=\"1\" class=\"dataframe\">\n",
       "  <thead>\n",
       "    <tr style=\"text-align: right;\">\n",
       "      <th></th>\n",
       "      <th>height_cm</th>\n",
       "      <th>weight_kg</th>\n",
       "      <th>age</th>\n",
       "      <th>overall</th>\n",
       "      <th>potential</th>\n",
       "      <th>attacking_crossing</th>\n",
       "      <th>attacking_finishing</th>\n",
       "      <th>attacking_heading_accuracy</th>\n",
       "      <th>attacking_short_passing</th>\n",
       "      <th>attacking_volleys</th>\n",
       "      <th>...</th>\n",
       "      <th>mentality_vision</th>\n",
       "      <th>mentality_penalties</th>\n",
       "      <th>defending_marking_awareness</th>\n",
       "      <th>defending_standing_tackle</th>\n",
       "      <th>defending_sliding_tackle</th>\n",
       "      <th>goalkeeping_diving</th>\n",
       "      <th>goalkeeping_handling</th>\n",
       "      <th>goalkeeping_kicking</th>\n",
       "      <th>goalkeeping_positioning</th>\n",
       "      <th>goalkeeping_reflexes</th>\n",
       "    </tr>\n",
       "  </thead>\n",
       "  <tbody>\n",
       "    <tr>\n",
       "      <th>0</th>\n",
       "      <td>0.0</td>\n",
       "      <td>0.0</td>\n",
       "      <td>0.0</td>\n",
       "      <td>0.0</td>\n",
       "      <td>0.0</td>\n",
       "      <td>0.0</td>\n",
       "      <td>0.0</td>\n",
       "      <td>0.0</td>\n",
       "      <td>0.0</td>\n",
       "      <td>0.0</td>\n",
       "      <td>...</td>\n",
       "      <td>0.0</td>\n",
       "      <td>0.0</td>\n",
       "      <td>0.0</td>\n",
       "      <td>0.0</td>\n",
       "      <td>0.0</td>\n",
       "      <td>0.0</td>\n",
       "      <td>0.0</td>\n",
       "      <td>0.0</td>\n",
       "      <td>0.0</td>\n",
       "      <td>0.0</td>\n",
       "    </tr>\n",
       "  </tbody>\n",
       "</table>\n",
       "<p>1 rows × 38 columns</p>\n",
       "</div>"
      ],
      "text/plain": [
       "   height_cm  weight_kg  age  overall  potential  attacking_crossing  \\\n",
       "0        0.0        0.0  0.0      0.0        0.0                 0.0   \n",
       "\n",
       "   attacking_finishing  attacking_heading_accuracy  attacking_short_passing  \\\n",
       "0                  0.0                         0.0                      0.0   \n",
       "\n",
       "   attacking_volleys  ...  mentality_vision  mentality_penalties  \\\n",
       "0                0.0  ...               0.0                  0.0   \n",
       "\n",
       "   defending_marking_awareness  defending_standing_tackle  \\\n",
       "0                          0.0                        0.0   \n",
       "\n",
       "   defending_sliding_tackle  goalkeeping_diving  goalkeeping_handling  \\\n",
       "0                       0.0                 0.0                   0.0   \n",
       "\n",
       "   goalkeeping_kicking  goalkeeping_positioning  goalkeeping_reflexes  \n",
       "0                  0.0                      0.0                   0.0  \n",
       "\n",
       "[1 rows x 38 columns]"
      ]
     },
     "execution_count": 42,
     "metadata": {},
     "output_type": "execute_result"
    }
   ],
   "source": [
    "plyrs_record2 = pd.DataFrame(np.zeros((1,grouped_players.columns.shape[0])), columns=grouped_players.columns)\n",
    "plyrs_record2"
   ]
  },
  {
   "cell_type": "code",
   "execution_count": 52,
   "metadata": {},
   "outputs": [
    {
     "data": {
      "text/html": [
       "<div>\n",
       "<style scoped>\n",
       "    .dataframe tbody tr th:only-of-type {\n",
       "        vertical-align: middle;\n",
       "    }\n",
       "\n",
       "    .dataframe tbody tr th {\n",
       "        vertical-align: top;\n",
       "    }\n",
       "\n",
       "    .dataframe thead th {\n",
       "        text-align: right;\n",
       "    }\n",
       "</style>\n",
       "<table border=\"1\" class=\"dataframe\">\n",
       "  <thead>\n",
       "    <tr style=\"text-align: right;\">\n",
       "      <th></th>\n",
       "      <th>year</th>\n",
       "      <th>1st_team</th>\n",
       "      <th>2nd_team</th>\n",
       "      <th>net_score</th>\n",
       "      <th>RAM_height_cm_2nd</th>\n",
       "      <th>RAM_weight_kg_2nd</th>\n",
       "      <th>RAM_age_2nd</th>\n",
       "      <th>RAM_overall_2nd</th>\n",
       "      <th>RAM_potential_2nd</th>\n",
       "      <th>RAM_attacking_crossing_2nd</th>\n",
       "      <th>...</th>\n",
       "      <th>RAM_mentality_vision_2nd</th>\n",
       "      <th>RAM_mentality_penalties_2nd</th>\n",
       "      <th>RAM_defending_marking_awareness_2nd</th>\n",
       "      <th>RAM_defending_standing_tackle_2nd</th>\n",
       "      <th>RAM_defending_sliding_tackle_2nd</th>\n",
       "      <th>RAM_goalkeeping_diving_2nd</th>\n",
       "      <th>RAM_goalkeeping_handling_2nd</th>\n",
       "      <th>RAM_goalkeeping_kicking_2nd</th>\n",
       "      <th>RAM_goalkeeping_positioning_2nd</th>\n",
       "      <th>RAM_goalkeeping_reflexes_2nd</th>\n",
       "    </tr>\n",
       "  </thead>\n",
       "  <tbody>\n",
       "    <tr>\n",
       "      <th>0</th>\n",
       "      <td>2014</td>\n",
       "      <td>Norway</td>\n",
       "      <td>Poland</td>\n",
       "      <td>-3.0</td>\n",
       "      <td>0.0</td>\n",
       "      <td>0.0</td>\n",
       "      <td>0.0</td>\n",
       "      <td>0.0</td>\n",
       "      <td>0.0</td>\n",
       "      <td>0.0</td>\n",
       "      <td>...</td>\n",
       "      <td>0.0</td>\n",
       "      <td>0.0</td>\n",
       "      <td>0.0</td>\n",
       "      <td>0.0</td>\n",
       "      <td>0.0</td>\n",
       "      <td>0.0</td>\n",
       "      <td>0.0</td>\n",
       "      <td>0.0</td>\n",
       "      <td>0.0</td>\n",
       "      <td>0.0</td>\n",
       "    </tr>\n",
       "  </tbody>\n",
       "</table>\n",
       "<p>1 rows × 42 columns</p>\n",
       "</div>"
      ],
      "text/plain": [
       "   year 1st_team 2nd_team net_score  RAM_height_cm_2nd  RAM_weight_kg_2nd  \\\n",
       "0  2014   Norway   Poland      -3.0                0.0                0.0   \n",
       "\n",
       "   RAM_age_2nd  RAM_overall_2nd  RAM_potential_2nd  \\\n",
       "0          0.0              0.0                0.0   \n",
       "\n",
       "   RAM_attacking_crossing_2nd  ...  RAM_mentality_vision_2nd  \\\n",
       "0                         0.0  ...                       0.0   \n",
       "\n",
       "   RAM_mentality_penalties_2nd  RAM_defending_marking_awareness_2nd  \\\n",
       "0                          0.0                                  0.0   \n",
       "\n",
       "   RAM_defending_standing_tackle_2nd  RAM_defending_sliding_tackle_2nd  \\\n",
       "0                                0.0                               0.0   \n",
       "\n",
       "   RAM_goalkeeping_diving_2nd  RAM_goalkeeping_handling_2nd  \\\n",
       "0                         0.0                           0.0   \n",
       "\n",
       "   RAM_goalkeeping_kicking_2nd  RAM_goalkeeping_positioning_2nd  \\\n",
       "0                          0.0                              0.0   \n",
       "\n",
       "   RAM_goalkeeping_reflexes_2nd  \n",
       "0                           0.0  \n",
       "\n",
       "[1 rows x 42 columns]"
      ]
     },
     "execution_count": 52,
     "metadata": {},
     "output_type": "execute_result"
    }
   ],
   "source": [
    "new_row"
   ]
  },
  {
   "cell_type": "code",
   "execution_count": 90,
   "metadata": {},
   "outputs": [
    {
     "data": {
      "text/html": [
       "<div>\n",
       "<style scoped>\n",
       "    .dataframe tbody tr th:only-of-type {\n",
       "        vertical-align: middle;\n",
       "    }\n",
       "\n",
       "    .dataframe tbody tr th {\n",
       "        vertical-align: top;\n",
       "    }\n",
       "\n",
       "    .dataframe thead th {\n",
       "        text-align: right;\n",
       "    }\n",
       "</style>\n",
       "<table border=\"1\" class=\"dataframe\">\n",
       "  <thead>\n",
       "    <tr style=\"text-align: right;\">\n",
       "      <th></th>\n",
       "      <th>year</th>\n",
       "      <th>1st_team</th>\n",
       "      <th>2nd_team</th>\n",
       "      <th>net_score</th>\n",
       "      <th>GK_height_cm_2nd</th>\n",
       "      <th>GK_weight_kg_2nd</th>\n",
       "      <th>GK_age_2nd</th>\n",
       "      <th>GK_overall_2nd</th>\n",
       "      <th>GK_potential_2nd</th>\n",
       "      <th>GK_attacking_crossing_2nd</th>\n",
       "      <th>...</th>\n",
       "      <th>RAM_mentality_vision_2nd</th>\n",
       "      <th>RAM_mentality_penalties_2nd</th>\n",
       "      <th>RAM_defending_marking_awareness_2nd</th>\n",
       "      <th>RAM_defending_standing_tackle_2nd</th>\n",
       "      <th>RAM_defending_sliding_tackle_2nd</th>\n",
       "      <th>RAM_goalkeeping_diving_2nd</th>\n",
       "      <th>RAM_goalkeeping_handling_2nd</th>\n",
       "      <th>RAM_goalkeeping_kicking_2nd</th>\n",
       "      <th>RAM_goalkeeping_positioning_2nd</th>\n",
       "      <th>RAM_goalkeeping_reflexes_2nd</th>\n",
       "    </tr>\n",
       "  </thead>\n",
       "  <tbody>\n",
       "    <tr>\n",
       "      <th>0</th>\n",
       "      <td>2014</td>\n",
       "      <td>Norway</td>\n",
       "      <td>Poland</td>\n",
       "      <td>-3.0</td>\n",
       "      <td>196.0</td>\n",
       "      <td>84.0</td>\n",
       "      <td>24.0</td>\n",
       "      <td>80.0</td>\n",
       "      <td>83.0</td>\n",
       "      <td>25.0</td>\n",
       "      <td>...</td>\n",
       "      <td>0.0</td>\n",
       "      <td>0.0</td>\n",
       "      <td>0.0</td>\n",
       "      <td>0.0</td>\n",
       "      <td>0.0</td>\n",
       "      <td>0.0</td>\n",
       "      <td>0.0</td>\n",
       "      <td>0.0</td>\n",
       "      <td>0.0</td>\n",
       "      <td>0.0</td>\n",
       "    </tr>\n",
       "  </tbody>\n",
       "</table>\n",
       "<p>1 rows × 1106 columns</p>\n",
       "</div>"
      ],
      "text/plain": [
       "   year 1st_team 2nd_team net_score GK_height_cm_2nd GK_weight_kg_2nd  \\\n",
       "0  2014   Norway   Poland      -3.0            196.0             84.0   \n",
       "\n",
       "  GK_age_2nd GK_overall_2nd GK_potential_2nd GK_attacking_crossing_2nd  ...  \\\n",
       "0       24.0           80.0             83.0                      25.0  ...   \n",
       "\n",
       "  RAM_mentality_vision_2nd RAM_mentality_penalties_2nd  \\\n",
       "0                      0.0                         0.0   \n",
       "\n",
       "  RAM_defending_marking_awareness_2nd RAM_defending_standing_tackle_2nd  \\\n",
       "0                                 0.0                               0.0   \n",
       "\n",
       "  RAM_defending_sliding_tackle_2nd RAM_goalkeeping_diving_2nd  \\\n",
       "0                              0.0                        0.0   \n",
       "\n",
       "  RAM_goalkeeping_handling_2nd RAM_goalkeeping_kicking_2nd  \\\n",
       "0                          0.0                         0.0   \n",
       "\n",
       "  RAM_goalkeeping_positioning_2nd RAM_goalkeeping_reflexes_2nd  \n",
       "0                             0.0                          0.0  \n",
       "\n",
       "[1 rows x 1106 columns]"
      ]
     },
     "execution_count": 90,
     "metadata": {},
     "output_type": "execute_result"
    }
   ],
   "source": [
    "dataset"
   ]
  },
  {
   "cell_type": "code",
   "execution_count": 94,
   "metadata": {},
   "outputs": [
    {
     "data": {
      "text/html": [
       "<div>\n",
       "<style scoped>\n",
       "    .dataframe tbody tr th:only-of-type {\n",
       "        vertical-align: middle;\n",
       "    }\n",
       "\n",
       "    .dataframe tbody tr th {\n",
       "        vertical-align: top;\n",
       "    }\n",
       "\n",
       "    .dataframe thead th {\n",
       "        text-align: right;\n",
       "    }\n",
       "</style>\n",
       "<table border=\"1\" class=\"dataframe\">\n",
       "  <thead>\n",
       "    <tr style=\"text-align: right;\">\n",
       "      <th></th>\n",
       "      <th>year</th>\n",
       "      <th>1st_team</th>\n",
       "      <th>2nd_team</th>\n",
       "      <th>net_score</th>\n",
       "    </tr>\n",
       "  </thead>\n",
       "  <tbody>\n",
       "    <tr>\n",
       "      <th>1</th>\n",
       "      <td>2014</td>\n",
       "      <td>Australia</td>\n",
       "      <td>Ecuador</td>\n",
       "      <td>-1.0</td>\n",
       "    </tr>\n",
       "  </tbody>\n",
       "</table>\n",
       "</div>"
      ],
      "text/plain": [
       "   year   1st_team 2nd_team net_score\n",
       "1  2014  Australia  Ecuador      -1.0"
      ]
     },
     "execution_count": 94,
     "metadata": {},
     "output_type": "execute_result"
    }
   ],
   "source": [
    "pd.DataFrame(match).T"
   ]
  },
  {
   "cell_type": "code",
   "execution_count": 97,
   "metadata": {},
   "outputs": [],
   "source": [
    "dataset = matches.copy().reset_index(drop=True)\n",
    "error_count = 0\n",
    "counter = 0\n",
    "for i, match in dataset.iterrows():\n",
    "    for pos in all_positions:\n",
    "        # new_row = pd.DataFrame()\n",
    "        second_team =  match[\"2nd_team\"]\n",
    "        first_team = match[\"1st_team\"]\n",
    "        year = match[\"year\"]\n",
    "        counter+=1\n",
    "        try:\n",
    "            # Get players data for first team\n",
    "            plyrs_record1 = pd.DataFrame(grouped_players.loc[first_team, year, pos])\n",
    "            plyrs_record2 = pd.DataFrame(grouped_players.loc[second_team, year, pos])\n",
    "            plyrs_record1 = plyrs_record1.T.reset_index(drop=True)\n",
    "            plyrs_record2 = plyrs_record2.T.reset_index(drop=True)\n",
    "        except:\n",
    "            plyrs_record2 = pd.DataFrame(np.zeros((1,grouped_players.columns.shape[0])), columns=grouped_players.columns)\n",
    "            plyrs_record1 = pd.DataFrame(np.zeros((1,grouped_players.columns.shape[0])), columns=grouped_players.columns)\n",
    "\n",
    "        \n",
    "        \n",
    "        plyrs_record2.columns = pos + \"_\" + plyrs_record2.columns + \"_2nd\"\n",
    "        plyrs_record1.columns = pos + \"_\" + plyrs_record1.columns + \"_1st\"\n",
    "        dataset_cols = dataset.columns\n",
    "        dataset = pd.concat([pd.DataFrame(dataset.loc[i]).T, plyrs_record2], axis=1, ignore_index=True)\n",
    "        dataset = pd.concat([pd.DataFrame(dataset.loc[i]).T, plyrs_record1], axis=1, ignore_index=True)\n",
    "        dataset.columns = dataset_cols.tolist() + plyrs_record2.columns.tolist() + plyrs_record1.columns.tolist()\n",
    "        # print(new_row)\n",
    "    # dataset = pd.concat([dataset, new_row], axis=0, ignore_index=True)\n",
    "        # break\n",
    "    break\n",
    "    # dataset = pd.concat([dataset, pd.DataFrame(match).T], axis=0, ignore_index=True)\n",
    "    \n",
    "        \n",
    "        \n",
    "        \n",
    "    "
   ]
  },
  {
   "cell_type": "code",
   "execution_count": 98,
   "metadata": {},
   "outputs": [
    {
     "data": {
      "text/html": [
       "<div>\n",
       "<style scoped>\n",
       "    .dataframe tbody tr th:only-of-type {\n",
       "        vertical-align: middle;\n",
       "    }\n",
       "\n",
       "    .dataframe tbody tr th {\n",
       "        vertical-align: top;\n",
       "    }\n",
       "\n",
       "    .dataframe thead th {\n",
       "        text-align: right;\n",
       "    }\n",
       "</style>\n",
       "<table border=\"1\" class=\"dataframe\">\n",
       "  <thead>\n",
       "    <tr style=\"text-align: right;\">\n",
       "      <th></th>\n",
       "      <th>year</th>\n",
       "      <th>1st_team</th>\n",
       "      <th>2nd_team</th>\n",
       "      <th>net_score</th>\n",
       "      <th>GK_height_cm_2nd</th>\n",
       "      <th>GK_weight_kg_2nd</th>\n",
       "      <th>GK_age_2nd</th>\n",
       "      <th>GK_overall_2nd</th>\n",
       "      <th>GK_potential_2nd</th>\n",
       "      <th>GK_attacking_crossing_2nd</th>\n",
       "      <th>...</th>\n",
       "      <th>RAM_mentality_vision_1st</th>\n",
       "      <th>RAM_mentality_penalties_1st</th>\n",
       "      <th>RAM_defending_marking_awareness_1st</th>\n",
       "      <th>RAM_defending_standing_tackle_1st</th>\n",
       "      <th>RAM_defending_sliding_tackle_1st</th>\n",
       "      <th>RAM_goalkeeping_diving_1st</th>\n",
       "      <th>RAM_goalkeeping_handling_1st</th>\n",
       "      <th>RAM_goalkeeping_kicking_1st</th>\n",
       "      <th>RAM_goalkeeping_positioning_1st</th>\n",
       "      <th>RAM_goalkeeping_reflexes_1st</th>\n",
       "    </tr>\n",
       "  </thead>\n",
       "  <tbody>\n",
       "    <tr>\n",
       "      <th>0</th>\n",
       "      <td>2014</td>\n",
       "      <td>Norway</td>\n",
       "      <td>Poland</td>\n",
       "      <td>-3.0</td>\n",
       "      <td>196.0</td>\n",
       "      <td>84.0</td>\n",
       "      <td>24.0</td>\n",
       "      <td>80.0</td>\n",
       "      <td>83.0</td>\n",
       "      <td>25.0</td>\n",
       "      <td>...</td>\n",
       "      <td>0.0</td>\n",
       "      <td>0.0</td>\n",
       "      <td>0.0</td>\n",
       "      <td>0.0</td>\n",
       "      <td>0.0</td>\n",
       "      <td>0.0</td>\n",
       "      <td>0.0</td>\n",
       "      <td>0.0</td>\n",
       "      <td>0.0</td>\n",
       "      <td>0.0</td>\n",
       "    </tr>\n",
       "  </tbody>\n",
       "</table>\n",
       "<p>1 rows × 2208 columns</p>\n",
       "</div>"
      ],
      "text/plain": [
       "   year 1st_team 2nd_team net_score GK_height_cm_2nd GK_weight_kg_2nd  \\\n",
       "0  2014   Norway   Poland      -3.0            196.0             84.0   \n",
       "\n",
       "  GK_age_2nd GK_overall_2nd GK_potential_2nd GK_attacking_crossing_2nd  ...  \\\n",
       "0       24.0           80.0             83.0                      25.0  ...   \n",
       "\n",
       "  RAM_mentality_vision_1st RAM_mentality_penalties_1st  \\\n",
       "0                      0.0                         0.0   \n",
       "\n",
       "  RAM_defending_marking_awareness_1st RAM_defending_standing_tackle_1st  \\\n",
       "0                                 0.0                               0.0   \n",
       "\n",
       "  RAM_defending_sliding_tackle_1st RAM_goalkeeping_diving_1st  \\\n",
       "0                              0.0                        0.0   \n",
       "\n",
       "  RAM_goalkeeping_handling_1st RAM_goalkeeping_kicking_1st  \\\n",
       "0                          0.0                         0.0   \n",
       "\n",
       "  RAM_goalkeeping_positioning_1st RAM_goalkeeping_reflexes_1st  \n",
       "0                             0.0                          0.0  \n",
       "\n",
       "[1 rows x 2208 columns]"
      ]
     },
     "execution_count": 98,
     "metadata": {},
     "output_type": "execute_result"
    }
   ],
   "source": [
    "dataset"
   ]
  },
  {
   "cell_type": "code",
   "execution_count": null,
   "metadata": {},
   "outputs": [],
   "source": []
  }
 ],
 "metadata": {
  "kernelspec": {
   "display_name": "Python 3.8.15 ('fifa_env')",
   "language": "python",
   "name": "python3"
  },
  "language_info": {
   "codemirror_mode": {
    "name": "ipython",
    "version": 3
   },
   "file_extension": ".py",
   "mimetype": "text/x-python",
   "name": "python",
   "nbconvert_exporter": "python",
   "pygments_lexer": "ipython3",
   "version": "3.8.15"
  },
  "orig_nbformat": 4,
  "vscode": {
   "interpreter": {
    "hash": "7664cecd9bcf62149f25c2b5c041d8c9fcb60408b70ed0c3a0fffdb05af0f20e"
   }
  }
 },
 "nbformat": 4,
 "nbformat_minor": 2
}
