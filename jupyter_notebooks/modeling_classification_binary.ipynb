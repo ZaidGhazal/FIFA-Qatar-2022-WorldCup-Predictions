{
 "cells": [
  {
   "cell_type": "code",
   "execution_count": null,
   "metadata": {},
   "outputs": [],
   "source": [
    "import pandas as pd\n",
    "import numpy as np\n",
    "from sklearn import preprocessing\n",
    "from sklearn.base import clone\n",
    "from pickle import dump\n",
    "import xgboost as xgb\n"
   ]
  },
  {
   "cell_type": "code",
   "execution_count": null,
   "metadata": {},
   "outputs": [],
   "source": [
    "## Load the dataset\n",
    "df = pd.read_csv('../data/dataset/dataset.csv')\n",
    "df.head()"
   ]
  },
  {
   "cell_type": "code",
   "execution_count": null,
   "metadata": {},
   "outputs": [],
   "source": [
    "df.tail()"
   ]
  },
  {
   "cell_type": "code",
   "execution_count": null,
   "metadata": {},
   "outputs": [],
   "source": [
    "## Drop the columns that are not needed\n",
    "df.drop(\"year\", axis=1, inplace=True)\n",
    "\n",
    "## Drop net score = 0\n",
    "df = df[df['net_score'] != 0]"
   ]
  },
  {
   "cell_type": "code",
   "execution_count": null,
   "metadata": {},
   "outputs": [],
   "source": [
    "def class_maper(score):\n",
    "    if score > 0:\n",
    "        return 0   # Home win\n",
    "    elif score < 0:\n",
    "        return 1   # Away Win\n",
    "    "
   ]
  },
  {
   "cell_type": "code",
   "execution_count": null,
   "metadata": {},
   "outputs": [],
   "source": [
    "## Split the dataset into train and test\n",
    "from sklearn.model_selection import train_test_split\n",
    "\n",
    "X = df.drop('net_score', axis=1)\n",
    "y = df['net_score'].apply(class_maper)\n",
    "\n",
    "X_train, X_test, y_train, y_test = train_test_split(X, y, test_size=0.15, random_state=42)"
   ]
  },
  {
   "cell_type": "code",
   "execution_count": null,
   "metadata": {},
   "outputs": [],
   "source": [
    "le = preprocessing.LabelEncoder()\n",
    "\n",
    "fifa2022_countries = pd.read_csv(\"../data/world_cup_2022_data/groups_of_2022.csv\")[\"country\"].values.tolist()\n",
    "countries_set = set(list(X[\"2nd_team\"]) + list(X[\"1st_team\"]) + fifa2022_countries)\n",
    "\n",
    "countries_encoder = le.fit(list(countries_set))\n",
    "dump(countries_encoder, open('../models/encoders/countries_encoder.pkl', 'wb'))\n",
    "\n",
    "X_train[\"2nd_team\"] = countries_encoder.transform(X_train[\"2nd_team\"])\n",
    "X_train[\"1st_team\"] = countries_encoder.transform(X_train[\"1st_team\"])\n",
    "\n",
    "X_test[\"2nd_team\"] = countries_encoder.transform(X_test[\"2nd_team\"])\n",
    "X_test[\"1st_team\"] = countries_encoder.transform(X_test[\"1st_team\"])"
   ]
  },
  {
   "cell_type": "code",
   "execution_count": null,
   "metadata": {},
   "outputs": [],
   "source": [
    "## Apply PCA\n",
    "from sklearn.decomposition import PCA\n",
    "from sklearn.preprocessing import StandardScaler\n",
    "from sklearn.pipeline import Pipeline\n",
    "\n",
    "pca = PCA(n_components=0.9)\n",
    "scaler = StandardScaler()\n",
    "\n"
   ]
  },
  {
   "cell_type": "code",
   "execution_count": null,
   "metadata": {},
   "outputs": [],
   "source": [
    "from sklearn.ensemble import RandomForestClassifier, AdaBoostClassifier, GradientBoostingClassifier\n",
    "from sklearn.neighbors import KNeighborsClassifier\n",
    "from sklearn.svm import SVC\n",
    "from sklearn.linear_model import LogisticRegression\n",
    "\n",
    "\n",
    "estimators_dict = {\n",
    "# xgb.XGBClassifier():\n",
    "# {\n",
    "#     \"est__n_estimators\": [ 200, 500, 1500],\n",
    "#     \"est__booster\": [\"gbtree\", \"gblinear\"],\n",
    "#     \"est__eta\": [0.01, 0.1, 1.0],\n",
    "#     \"est__alpha\": [0, 0.5, 1],\n",
    "#     \"est__lambda\": [0, 1 , 2]\n",
    "\n",
    "# },\n",
    "# RandomForestClassifier():  \n",
    "# {\n",
    "#     \"est__n_estimators\": [10, 50, 100, 200, 500],\n",
    "#     \"est__max_depth\": [3, 5, 10, 20, 55],\n",
    "#     \"est__min_samples_split\": [2, 5, 10],\n",
    "#     \"est__min_samples_leaf\": [1, 2, 4],\n",
    "#     \"est__bootstrap\": [True, False],\n",
    "#     \"est__criterion\": [\"gini\", \"entropy\"]\n",
    "# },\n",
    "# AdaBoostClassifier():\n",
    "# {\n",
    "#     \"est__n_estimators\": [10, 50, 100, 200, 500],\n",
    "#     \"est__learning_rate\": [0.01, 0.05, 0.1, 0.5, 1.0],\n",
    "#     \"est__algorithm\": [\"SAMME\", \"SAMME.R\"]\n",
    "# },\n",
    "\n",
    "# KNeighborsClassifier():\n",
    "# {\n",
    "#     \"est__n_neighbors\": [3, 5, 10, 20, 50, 100],\n",
    "#     \"est__weights\": [\"uniform\", \"distance\"],\n",
    "#     \"est__algorithm\": [\"auto\", \"ball_tree\", \"kd_tree\", \"brute\"],\n",
    "#     \"est__leaf_size\": [10, 20, 30, 40, 50, 60, 70, 80, 90, 100]\n",
    "# },\n",
    "LogisticRegression():\n",
    "{\n",
    "    \"est__penalty\": [\"l1\", \"l2\"],\n",
    "    \"est__C\": [0.1, 0.5, 1.0, 5.0, 10.0, 50.0, 100.0],\n",
    "    \"est__solver\": [\"newton-cg\", \"liblinear\", \"sag\", \"saga\"],\n",
    "    \"est__max_iter\": [100, 200, 500, 1000, 2000, 5000, 10000]\n",
    "}\n",
    "\n",
    "\n",
    "}\n"
   ]
  },
  {
   "cell_type": "code",
   "execution_count": null,
   "metadata": {},
   "outputs": [],
   "source": [
    "from sklearn.model_selection import GridSearchCV\n",
    "\n",
    "def get_best_estimator(estimator, params, cv):\n",
    "    grid = GridSearchCV(estimator, params, cv=cv, scoring=\"f1\", n_jobs=-1)\n",
    "    grid.fit(X_train, y_train)\n",
    "    return grid.best_estimator_\n"
   ]
  },
  {
   "cell_type": "code",
   "execution_count": null,
   "metadata": {},
   "outputs": [],
   "source": [
    "### Get tunned pipeline\n",
    "from sklearn.model_selection import cross_validate, KFold\n",
    "\n",
    "scorers = [\"f1\"]\n",
    "train_f1 = \"train_f1\"\n",
    "test_f1 = \"test_f1\"\n",
    "\n",
    "cv = KFold(n_splits=5, shuffle=True, random_state=42)\n",
    "\n",
    "valid_results = pd.DataFrame(columns=[\"estimator\", \"params\", \"train_f1\", \"test_f1\"])    \n",
    "\n",
    "                                      \n",
    "for est, params in estimators_dict.items():\n",
    "    print(\"Getting best estimator for {}\".format(est))\n",
    "    pipeline = Pipeline(steps=[('scaler', scaler), ('pca', pca), ('est', est)])\n",
    "    tunned_estimator = get_best_estimator(pipeline, params, cv)\n",
    "\n",
    "    \n",
    "    scores = cross_validate(tunned_estimator, X_train, y_train, cv=cv, return_train_score=True, scoring=scorers, n_jobs=8)\n",
    "    valid_results = valid_results.append({\n",
    "        \"estimator\": tunned_estimator,\n",
    "        \"params\": tunned_estimator.get_params(),\n",
    "        train_f1: scores[\"train_f1\"].mean(),\n",
    "        test_f1: scores[\"test_f1\"].mean(),\n",
    "    }, ignore_index=True)\n",
    "\n",
    "valid_results"
   ]
  },
  {
   "cell_type": "code",
   "execution_count": null,
   "metadata": {},
   "outputs": [],
   "source": [
    "## get the highest test score\n",
    "best_estimator = valid_results.loc[valid_results[test_f1].idxmax()][\"estimator\"]\n",
    "best_estimator"
   ]
  },
  {
   "cell_type": "code",
   "execution_count": null,
   "metadata": {},
   "outputs": [],
   "source": [
    "X[\"1st_team\"] = countries_encoder.transform(X[\"1st_team\"])\n",
    "X[\"2nd_team\"] = countries_encoder.transform(X[\"2nd_team\"])\n"
   ]
  },
  {
   "cell_type": "code",
   "execution_count": null,
   "metadata": {},
   "outputs": [],
   "source": [
    "for model in valid_results[\"estimator\"].values:\n",
    "    model = clone(model)\n",
    "    print(model)\n",
    "    model.fit(X, y)\n",
    "    dump(model, open(\"../models/classification/{}_binary.pkl\".format(model[\"est\"].__class__.__name__), \"wb\"))\n",
    "    \n"
   ]
  },
  {
   "cell_type": "code",
   "execution_count": null,
   "metadata": {},
   "outputs": [],
   "source": [
    "# Test clssifiers on test data\n",
    "\n",
    "from sklearn.metrics import f1_score\n",
    "\n",
    "test_results = pd.DataFrame(columns=[\"estimator\", \"params\", \"test_f1\"])\n",
    "\n",
    "for model in valid_results[\"estimator\"].values:\n",
    "    model = clone(model)\n",
    "    model.fit(X_train, y_train)\n",
    "    y_pred = model.predict(X_test)\n",
    "    test_results = test_results.append({\n",
    "        \"estimator\": model,\n",
    "        \"params\": model.get_params(),\n",
    "        \"test_f1\": f1_score(y_test, y_pred, average=\"micro\")\n",
    "    }, ignore_index=True)"
   ]
  },
  {
   "cell_type": "code",
   "execution_count": null,
   "metadata": {},
   "outputs": [],
   "source": [
    "from sklearn.metrics import ConfusionMatrixDisplay\n",
    "import matplotlib.pyplot as plt\n",
    "for model in valid_results[\"estimator\"].values:\n",
    "    print(model[\"est\"].__class__.__name__)\n",
    "    disp = ConfusionMatrixDisplay.from_estimator(\n",
    "        model,\n",
    "        X_test,\n",
    "        y_test,\n",
    "        # display_labels=class_names,\n",
    "        cmap=plt.cm.Blues,\n",
    "    )\n",
    "    disp.ax_.set_title(\"Confusion matrix\")\n",
    "    plt.show()\n",
    "    \n",
    "\n",
    "    # print(disp.confusion_matrix)\n",
    "\n"
   ]
  },
  {
   "cell_type": "code",
   "execution_count": null,
   "metadata": {},
   "outputs": [],
   "source": []
  }
 ],
 "metadata": {
  "kernelspec": {
   "display_name": "Python 3.8.15 ('worldcup-winner-predictor-env')",
   "language": "python",
   "name": "python3"
  },
  "language_info": {
   "codemirror_mode": {
    "name": "ipython",
    "version": 3
   },
   "file_extension": ".py",
   "mimetype": "text/x-python",
   "name": "python",
   "nbconvert_exporter": "python",
   "pygments_lexer": "ipython3",
   "version": "3.8.15"
  },
  "orig_nbformat": 4,
  "vscode": {
   "interpreter": {
    "hash": "f9c30e6997e02408c47b6da9585ba0f97532335a1e0d8437c0b26c1a0774b821"
   }
  }
 },
 "nbformat": 4,
 "nbformat_minor": 2
}
