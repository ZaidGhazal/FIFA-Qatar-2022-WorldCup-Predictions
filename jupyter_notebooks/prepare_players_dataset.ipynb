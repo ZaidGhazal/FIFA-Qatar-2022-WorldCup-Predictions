{
 "cells": [
  {
   "cell_type": "code",
   "execution_count": 1,
   "metadata": {},
   "outputs": [],
   "source": [
    "import pandas as pd\n",
    "import glob\n",
    "import os\n",
    "import warnings\n",
    "warnings.filterwarnings('ignore')"
   ]
  },
  {
   "cell_type": "markdown",
   "metadata": {},
   "source": [
    "## Import Historical and WorldCup 2022 Data"
   ]
  },
  {
   "cell_type": "code",
   "execution_count": 2,
   "metadata": {},
   "outputs": [],
   "source": [
    "def remove_whitespaces(df: pd.DataFrame) -> None:\n",
    "    \"\"\"Remove whitespaces from column names and string values\n",
    "\n",
    "    Parameters\n",
    "    ----------\n",
    "    df : pd.DataFrame\n",
    "        Dataframe to clean\n",
    "    \"\"\"\n",
    "    # Remove whitespace from each column name\n",
    "    df.columns = df.columns.str.strip()\n",
    "    \n",
    "    # Remove whitespace from each string value\n",
    "    categorical_columns = df.select_dtypes(\"O\").columns\n",
    "    for column in categorical_columns:\n",
    "        df[column] = df[column].str.strip()"
   ]
  },
  {
   "cell_type": "code",
   "execution_count": 4,
   "metadata": {},
   "outputs": [],
   "source": [
    "HIST_PLAYERS_DIR = \"../data/players_data\"\n",
    "WORLDCUP_PLAYERS_DATA_PATH = \"../data/world_cup_2022_data/players_worldcup_2022.xlsx\"\n",
    "\n",
    "# Load the WorldCup players Data\n",
    "players_worldCup = pd.read_excel(WORLDCUP_PLAYERS_DATA_PATH)\n",
    "\n",
    "# Load the historical players data\n",
    "all_files = glob.glob(os.path.join(HIST_PLAYERS_DIR , \"*.csv\"))\n",
    "temp_list = []\n",
    "\n",
    "files_list = [\"players_15.csv\", \"players_16.csv\", \"players_17.csv\", \"players_18.csv\", \"players_19.csv\", \"players_20.csv\", \"players_21.csv\", \"players_22.csv\"]\n",
    "\n",
    "for filename in all_files:\n",
    "    if filename.split(\"/\")[-1] not in files_list:\n",
    "        continue\n",
    "    temp_df = pd.read_csv(filename, index_col=None, header=0)\n",
    "    year = int(filename.split(\".\")[-2][-2:]) + 2000\n",
    "    temp_df[\"year\"] = year\n",
    "\n",
    "\n",
    "    temp_list.append(temp_df)\n",
    "\n",
    "players_hist = pd.concat(temp_list, axis=0, ignore_index=True)\n",
    "\n",
    "# Remove whitespaces from column names and string values\n",
    "remove_whitespaces(players_worldCup)\n",
    "remove_whitespaces(players_hist)"
   ]
  },
  {
   "cell_type": "code",
   "execution_count": 5,
   "metadata": {},
   "outputs": [],
   "source": [
    "# Add year column to worldCup Data\n",
    "players_worldCup[\"year\"] = 2023\n",
    "\n",
    "# Keep only features found in the world cup data \n",
    "players_hist = players_hist[players_worldCup.columns.to_list()]\n"
   ]
  },
  {
   "cell_type": "code",
   "execution_count": 6,
   "metadata": {},
   "outputs": [],
   "source": [
    "# Concatenate the two datasets\n",
    "players_all = pd.concat([players_worldCup, players_hist], axis=0, ignore_index=True)"
   ]
  },
  {
   "cell_type": "markdown",
   "metadata": {},
   "source": [
    "## Data Wrangling"
   ]
  },
  {
   "cell_type": "code",
   "execution_count": 7,
   "metadata": {},
   "outputs": [
    {
     "data": {
      "text/plain": [
       "long_name                           0\n",
       "height_cm                           0\n",
       "weight_kg                           0\n",
       "age                                 0\n",
       "overall                             0\n",
       "potential                           0\n",
       "sofifa_id                          13\n",
       "nation_position                133643\n",
       "nationality_name                    4\n",
       "attacking_crossing                  0\n",
       "attacking_finishing                 2\n",
       "attacking_heading_accuracy          2\n",
       "attacking_short_passing             2\n",
       "attacking_volleys                   2\n",
       "skill_dribbling                     0\n",
       "skill_curve                         0\n",
       "skill_fk_accuracy                   0\n",
       "skill_long_passing                  0\n",
       "skill_ball_control                  0\n",
       "movement_acceleration               0\n",
       "movement_sprint_speed               0\n",
       "movement_agility                    0\n",
       "movement_reactions                  0\n",
       "movement_balance                    0\n",
       "power_shot_power                    0\n",
       "power_jumping                       0\n",
       "power_stamina                       0\n",
       "power_strength                      0\n",
       "power_long_shots                    0\n",
       "mentality_aggression                0\n",
       "mentality_interceptions             0\n",
       "mentality_positioning               0\n",
       "mentality_vision                    4\n",
       "mentality_penalties                 4\n",
       "defending_marking_awareness         0\n",
       "defending_standing_tackle           0\n",
       "defending_sliding_tackle            0\n",
       "goalkeeping_diving                  4\n",
       "goalkeeping_handling                4\n",
       "goalkeeping_kicking                 4\n",
       "goalkeeping_positioning             6\n",
       "goalkeeping_reflexes                6\n",
       "year                                0\n",
       "dtype: int64"
      ]
     },
     "execution_count": 7,
     "metadata": {},
     "output_type": "execute_result"
    }
   ],
   "source": [
    "# Print nulls count\n",
    "players_all.isnull().sum()"
   ]
  },
  {
   "cell_type": "code",
   "execution_count": 8,
   "metadata": {},
   "outputs": [],
   "source": [
    "filtered_players_all = players_all[~players_all[\"nation_position\"].isnull()].reset_index(drop=True)"
   ]
  },
  {
   "cell_type": "code",
   "execution_count": 9,
   "metadata": {},
   "outputs": [
    {
     "data": {
      "text/plain": [
       "array(['Qatar', 'Ecuador', '1667', 'Netherlands', 'England', '111115',\n",
       "       'United States', 'Wales', 'Argentina', 'Atlético Madrid',\n",
       "       'Atlanta United', 'Saudi Arabia', 'Mexico', 'Poland', 'France',\n",
       "       'Australia', 'Denmark', 'Tunisia', '1383', 'Germany', 'Spain',\n",
       "       'FC Barcelona', 'Manchester City', '1411', 'Canada', 'Belgium',\n",
       "       'Morocco', 'Croatia', 'Brazil', 'Serbia', 'Cameroon',\n",
       "       'Switzerland', 'Portugal', 'Ghana', 'Uruguay', 'Al Nassr',\n",
       "       'Korea Republic', 'Italy', 'Norway', 'Scotland', 'Hungary',\n",
       "       'Sweden', 'Austria', 'Finland', 'Czech Republic', 'Ukraine',\n",
       "       'Greece', 'Northern Ireland', 'Iceland', 'New Zealand', 'China PR',\n",
       "       'Russia', 'Republic of Ireland', 'Romania', 'Slovenia', 'Egypt',\n",
       "       'Chile', \"Côte d'Ivoire\", 'Colombia', 'Turkey', 'Peru',\n",
       "       'Venezuela', 'Paraguay', 'South Africa', 'Bulgaria', 'Bolivia',\n",
       "       'India'], dtype=object)"
      ]
     },
     "execution_count": 9,
     "metadata": {},
     "output_type": "execute_result"
    }
   ],
   "source": [
    "filtered_players_all[\"nationality_name\"].unique()"
   ]
  },
  {
   "cell_type": "code",
   "execution_count": 10,
   "metadata": {},
   "outputs": [],
   "source": [
    "to_rename = {\"1667\": \"Senegal\", \"111115\": \"Iran\", \"1383\": \"Costa Rica\", \"1411\": \"Japan\"}\n",
    "clubs_to_drop = [\n",
    "    \"Atlético Madrid\",\n",
    "    \"Atlanta United\",\n",
    "    \"FC Barcelona\",\n",
    "    \"Manchester City\",\n",
    "    \"Al Nassr\"\n",
    "]\n",
    "\n",
    "# Rename some nations\n",
    "filtered_players_all[\"nationality_name\"].replace(to_rename, inplace=True)\n",
    "\n",
    "# Drop some clubs\n",
    "filtered_players_all = filtered_players_all[~filtered_players_all[\"nationality_name\"].isin(clubs_to_drop)]"
   ]
  },
  {
   "cell_type": "code",
   "execution_count": 11,
   "metadata": {},
   "outputs": [],
   "source": [
    "for year in filtered_players_all[\"year\"].unique():\n",
    "    temp_df =  filtered_players_all[filtered_players_all[\"year\"] == year]\n",
    "    for nation in temp_df[\"nationality_name\"].unique():\n",
    "        positions_count = temp_df[(temp_df[\"nationality_name\"] == nation) & ~(temp_df[\"nation_position\"].isnull())].shape[0]\n",
    "        if temp_df[(temp_df[\"nationality_name\"] == nation) ].shape[0] < 12:\n",
    "            print(f\"Year: {year} | Nation: {nation} | Positions: {positions_count}\")\n"
   ]
  },
  {
   "cell_type": "code",
   "execution_count": 12,
   "metadata": {},
   "outputs": [
    {
     "data": {
      "text/plain": [
       "array(['Qatar', 'Ecuador', 'Senegal', 'Netherlands', 'England', 'Iran',\n",
       "       'United States', 'Wales', 'Argentina', 'Saudi Arabia', 'Mexico',\n",
       "       'Poland', 'France', 'Australia', 'Denmark', 'Tunisia',\n",
       "       'Costa Rica', 'Germany', 'Spain', 'Japan', 'Canada', 'Belgium',\n",
       "       'Morocco', 'Croatia', 'Brazil', 'Serbia', 'Cameroon',\n",
       "       'Switzerland', 'Portugal', 'Ghana', 'Uruguay', 'Korea Republic'],\n",
       "      dtype=object)"
      ]
     },
     "execution_count": 12,
     "metadata": {},
     "output_type": "execute_result"
    }
   ],
   "source": [
    "filtered_players_all[filtered_players_all[\"year\"] == 2023][\"nationality_name\"].unique()"
   ]
  },
  {
   "cell_type": "code",
   "execution_count": 13,
   "metadata": {},
   "outputs": [
    {
     "data": {
      "text/plain": [
       "array(['Qatar', 'Ecuador', 'Senegal', 'Netherlands', 'England', 'Iran',\n",
       "       'United States', 'Wales', 'Argentina', 'Saudi Arabia', 'Mexico',\n",
       "       'Poland', 'France', 'Australia', 'Denmark', 'Tunisia',\n",
       "       'Costa Rica', 'Germany', 'Spain', 'Japan', 'Canada', 'Belgium',\n",
       "       'Morocco', 'Croatia', 'Brazil', 'Serbia', 'Cameroon',\n",
       "       'Switzerland', 'Portugal', 'Ghana', 'Uruguay', 'Korea Republic',\n",
       "       'Italy', 'Norway', 'Scotland', 'Hungary', 'Sweden', 'Austria',\n",
       "       'Finland', 'Czech Republic', 'Ukraine', 'Greece',\n",
       "       'Northern Ireland', 'Iceland', 'New Zealand', 'China PR', 'Russia',\n",
       "       'Republic of Ireland', 'Romania', 'Slovenia', 'Egypt', 'Chile',\n",
       "       \"Côte d'Ivoire\", 'Colombia', 'Turkey', 'Peru', 'Venezuela',\n",
       "       'Paraguay', 'South Africa', 'Bulgaria', 'Bolivia', 'India'],\n",
       "      dtype=object)"
      ]
     },
     "execution_count": 13,
     "metadata": {},
     "output_type": "execute_result"
    }
   ],
   "source": [
    "filtered_players_all[\"nationality_name\"].unique()"
   ]
  },
  {
   "cell_type": "code",
   "execution_count": 14,
   "metadata": {},
   "outputs": [],
   "source": [
    "filtered_players_all.drop(columns=\"sofifa_id\", inplace=True)"
   ]
  },
  {
   "cell_type": "code",
   "execution_count": 15,
   "metadata": {},
   "outputs": [
    {
     "name": "stdout",
     "output_type": "stream",
     "text": [
      "Players data shape: (9251, 42)\n"
     ]
    }
   ],
   "source": [
    "assert filtered_players_all.isnull().sum().sum() == 0\n",
    "print(f\"Players data shape: {filtered_players_all.shape}\")"
   ]
  },
  {
   "cell_type": "code",
   "execution_count": 16,
   "metadata": {},
   "outputs": [],
   "source": [
    "## Export Data\n",
    "filtered_players_all.to_csv(\"players_all_prepared.csv\", index=False)"
   ]
  },
  {
   "cell_type": "code",
   "execution_count": null,
   "metadata": {},
   "outputs": [],
   "source": []
  }
 ],
 "metadata": {
  "kernelspec": {
   "display_name": "Python 3.8.15 ('fifa_env')",
   "language": "python",
   "name": "python3"
  },
  "language_info": {
   "codemirror_mode": {
    "name": "ipython",
    "version": 3
   },
   "file_extension": ".py",
   "mimetype": "text/x-python",
   "name": "python",
   "nbconvert_exporter": "python",
   "pygments_lexer": "ipython3",
   "version": "3.8.15"
  },
  "orig_nbformat": 4,
  "vscode": {
   "interpreter": {
    "hash": "7664cecd9bcf62149f25c2b5c041d8c9fcb60408b70ed0c3a0fffdb05af0f20e"
   }
  }
 },
 "nbformat": 4,
 "nbformat_minor": 2
}
