{
 "cells": [
  {
   "cell_type": "code",
   "execution_count": null,
   "metadata": {},
   "outputs": [],
   "source": [
    "import pandas as pd\n",
    "import numpy as np\n",
    "from sklearn import preprocessing\n",
    "from sklearn.base import clone\n",
    "from pickle import dump"
   ]
  },
  {
   "cell_type": "code",
   "execution_count": null,
   "metadata": {},
   "outputs": [],
   "source": [
    "## Load the dataset\n",
    "df = pd.read_csv('../data/dataset/dataset.csv')\n",
    "df.head()"
   ]
  },
  {
   "cell_type": "code",
   "execution_count": null,
   "metadata": {},
   "outputs": [],
   "source": [
    "df.tail()"
   ]
  },
  {
   "cell_type": "code",
   "execution_count": null,
   "metadata": {},
   "outputs": [],
   "source": [
    "## Drop the columns that are not needed\n",
    "df.drop(\"year\", axis=1, inplace=True)"
   ]
  },
  {
   "cell_type": "code",
   "execution_count": null,
   "metadata": {},
   "outputs": [],
   "source": [
    "## Split the dataset into train and test\n",
    "from sklearn.model_selection import train_test_split\n",
    "\n",
    "X = df.drop('net_score', axis=1)\n",
    "y = df['net_score']\n",
    "\n",
    "X_train, X_test, y_train, y_test = train_test_split(X, y, test_size=0.15, random_state=42)"
   ]
  },
  {
   "cell_type": "code",
   "execution_count": null,
   "metadata": {},
   "outputs": [],
   "source": [
    "le = preprocessing.LabelEncoder()\n",
    "\n",
    "fifa2022_countries = pd.read_csv(\"../data/world_cup_2022_data/groups_of_2022.csv\")[\"country\"].values.tolist()\n",
    "countries_set = set(list(X[\"2nd_team\"]) + list(X[\"1st_team\"]) + fifa2022_countries)\n",
    "\n",
    "countries_encoder = le.fit(list(countries_set))\n",
    "dump(countries_encoder, open('../models/encoders/countries_encoder.pkl', 'wb'))\n",
    "X_train[\"2nd_team\"] = countries_encoder.transform(X_train[\"2nd_team\"])\n",
    "X_train[\"1st_team\"] = countries_encoder.transform(X_train[\"1st_team\"])\n",
    "\n",
    "X_test[\"2nd_team\"] = countries_encoder.transform(X_test[\"2nd_team\"])\n",
    "X_test[\"1st_team\"] = countries_encoder.transform(X_test[\"1st_team\"])"
   ]
  },
  {
   "cell_type": "code",
   "execution_count": null,
   "metadata": {},
   "outputs": [],
   "source": [
    "## Apply PCA\n",
    "from sklearn.decomposition import PCA\n",
    "from sklearn.preprocessing import StandardScaler\n",
    "from sklearn.pipeline import Pipeline\n",
    "\n",
    "pca = PCA(n_components=0.9)\n",
    "scaler = StandardScaler()\n",
    "\n"
   ]
  },
  {
   "cell_type": "code",
   "execution_count": null,
   "metadata": {},
   "outputs": [],
   "source": [
    "from sklearn.ensemble import RandomForestRegressor, AdaBoostRegressor, GradientBoostingRegressor\n",
    "from sklearn.linear_model import Ridge, Lasso\n",
    "from sklearn.svm import SVR\n",
    "from sklearn.neighbors import KNeighborsRegressor\n",
    "\n",
    "estimators_dict = {\n",
    "RandomForestRegressor(): {\"est__n_estimators\": [100,300,500, 1000], \"est__max_depth\": [None, 3, 5, 7], \"est__oob_score\": [True], \"est__min_samples_split\":[0.05, 0.15, 0.3, 0.5] },\n",
    "AdaBoostRegressor(): {\"est__n_estimators\": [100,300,500, 1000], \"est__learning_rate\": [0.01, 0.05, 0.1, 0.5, 1], \"est__loss\": [\"linear\", \"square\", \"exponential\"] },\n",
    "GradientBoostingRegressor(): {\"est__n_estimators\": [100,300,500, 1000], \"est__learning_rate\": [0.01, 0.05, 0.1, 0.5, 1], \"est__loss\": [\"squared_error\", \"absolute_error\", \"huber\", \"quantile\"], \"est__max_depth\": [None, 3, 5, 7] },\n",
    "Ridge(): {\"est__alpha\": [0.01, 0.05, 0.1, 0.5, 1, 5, 10, 50, 100], \"est__solver\": [\"auto\", \"svd\", \"cholesky\", \"lsqr\", \"sparse_cg\", \"sag\", \"saga\"] },\n",
    "Lasso(): {\"est__alpha\": [0.01, 0.05, 0.1, 0.5, 1, 5, 10, 50, 100], \"est__max_iter\": [1000, 2000, 5000, 10000]},\n",
    "SVR(): {\"est__kernel\": [\"linear\", \"poly\", \"rbf\", \"sigmoid\"], \"est__C\": [0.01, 0.05, 0.1, 0.5, 1, 5, 10, 50, 100], \"est__gamma\": [\"scale\", \"auto\"] },\n",
    "KNeighborsRegressor(): {\"est__n_neighbors\": [3, 5, 7, 9, 11, 13, 15, 17, 19, 21], \"est__weights\": [\"uniform\", \"distance\"], \"est__algorithm\": [\"auto\", \"ball_tree\", \"kd_tree\", \"brute\"], \"est__leaf_size\": [10, 20, 30, 40, 50, 60, 70, 80, 90, 100]}\n",
    "\n",
    "}"
   ]
  },
  {
   "cell_type": "code",
   "execution_count": null,
   "metadata": {},
   "outputs": [],
   "source": [
    "from sklearn.model_selection import GridSearchCV\n",
    "\n",
    "def get_best_estimator(estimator, params, cv):\n",
    "    grid = GridSearchCV(estimator, params, cv=cv, scoring=\"neg_mean_squared_error\", n_jobs=-1)\n",
    "    grid.fit(X_train, y_train)\n",
    "    return grid.best_estimator_\n"
   ]
  },
  {
   "cell_type": "code",
   "execution_count": null,
   "metadata": {},
   "outputs": [],
   "source": [
    "X_train"
   ]
  },
  {
   "cell_type": "code",
   "execution_count": null,
   "metadata": {},
   "outputs": [],
   "source": [
    "### Get tunned pipeline\n",
    "from sklearn.model_selection import cross_validate, KFold\n",
    "\n",
    "scorers = [\"neg_mean_absolute_error\", \"r2\", \"neg_mean_absolute_percentage_error\"]\n",
    "train_mae = \"train_neg_mean_absolute_error\"\n",
    "test_mae = \"test_neg_mean_absolute_error\"\n",
    "\n",
    "train_r2 = \"train_r2\"\n",
    "test_r2 = \"test_r2\"\n",
    "\n",
    "train_mape = \"train_neg_mean_absolute_percentage_error\"\n",
    "test_mape = \"test_neg_mean_absolute_percentage_error\"\n",
    "cv = KFold(n_splits=5, shuffle=True, random_state=42)\n",
    "\n",
    "\n",
    "\n",
    "                                      \n",
    "for est, params in estimators_dict.items():\n",
    "    print(\"Getting best estimator for {}\".format(est))\n",
    "    pipeline = Pipeline(steps=[('scaler', scaler), ('pca', pca), ('est', est)])\n",
    "    tunned_estimator = get_best_estimator(pipeline, params, cv)\n",
    "\n",
    "    \n",
    "    scores = cross_validate(tunned_estimator, X_train, y_train, cv=cv, return_train_score=True, scoring=scorers, n_jobs=-1)\n",
    "    train_mae_score = np.mean(scores[train_mae]*-1)\n",
    "    test_mae_score = np.mean(scores[test_mae]*-1)\n",
    "    train_r2_score = np.mean(scores[train_r2])\n",
    "    test_r2_score = np.mean(scores[test_r2])\n",
    "    train_mape_score = np.mean(scores[train_mape]*-1)\n",
    "    test_mape_score = np.mean(scores[test_mape]*-1)\n",
    "    valid_results = valid_results.append({\"estimator\": tunned_estimator, \"params\": tunned_estimator.get_params()[\"est\"],\n",
    "                                            \"train_MAE\": train_mae_score, \"test_MAE\": test_mae_score,\n",
    "                                            \"train_r2\": train_r2_score, \"test_r2\": test_r2_score,\n",
    "                                            \"train_MAPE\": train_mape_score, \"test_MAPE\": test_mape_score}, ignore_index=True)\n",
    "\n",
    "valid_results"
   ]
  },
  {
   "cell_type": "code",
   "execution_count": null,
   "metadata": {},
   "outputs": [],
   "source": [
    "for model in valid_results[\"estimator\"].values:\n",
    "    model = clone(model)\n",
    "    print(model)\n",
    "    model.fit(X, y)\n",
    "    dump(model, open(\"../models/regression/{}.pkl\".format(model[\"est\"].__class__.__name__), \"wb\"))\n",
    "    \n"
   ]
  }
 ],
 "metadata": {
  "kernelspec": {
   "display_name": "Python 3.8.15 ('fifa_env')",
   "language": "python",
   "name": "python3"
  },
  "language_info": {
   "codemirror_mode": {
    "name": "ipython",
    "version": 3
   },
   "file_extension": ".py",
   "mimetype": "text/x-python",
   "name": "python",
   "nbconvert_exporter": "python",
   "pygments_lexer": "ipython3",
   "version": "3.8.15"
  },
  "orig_nbformat": 4,
  "vscode": {
   "interpreter": {
    "hash": "7664cecd9bcf62149f25c2b5c041d8c9fcb60408b70ed0c3a0fffdb05af0f20e"
   }
  }
 },
 "nbformat": 4,
 "nbformat_minor": 2
}
